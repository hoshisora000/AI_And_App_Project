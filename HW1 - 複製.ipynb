{
 "cells": [
  {
   "cell_type": "code",
   "execution_count": 49,
   "id": "688b5dec",
   "metadata": {},
   "outputs": [
    {
     "name": "stdout",
     "output_type": "stream",
     "text": [
      "      age     bmi  children\n",
      "0      19  27.900         0\n",
      "1      18  33.770         1\n",
      "2      28  33.000         3\n",
      "3      33  22.705         0\n",
      "4      32  28.880         0\n",
      "...   ...     ...       ...\n",
      "1333   50  30.970         3\n",
      "1334   18  31.920         0\n",
      "1335   18  36.850         0\n",
      "1336   21  25.800         0\n",
      "1337   61  29.070         0\n",
      "\n",
      "[1338 rows x 3 columns]\n",
      "0       16884.92400\n",
      "1        1725.55230\n",
      "2        4449.46200\n",
      "3       21984.47061\n",
      "4        3866.85520\n",
      "           ...     \n",
      "1333    10600.54830\n",
      "1334     2205.98080\n",
      "1335     1629.83350\n",
      "1336     2007.94500\n",
      "1337    29141.36030\n",
      "Name: charges, Length: 1338, dtype: float64\n",
      "621     40182.24600\n",
      "194      1137.46970\n",
      "240     38511.62830\n",
      "1168     4670.64000\n",
      "1192    13019.16105\n",
      "           ...     \n",
      "763      3070.80870\n",
      "835      7160.33030\n",
      "1216     5415.66120\n",
      "559      1646.42970\n",
      "684      4766.02200\n",
      "Name: charges, Length: 1070, dtype: float64\n",
      "      age     bmi  children\n",
      "578    52  30.200         1\n",
      "610    47  29.370         1\n",
      "569    48  40.565         2\n",
      "1034   61  38.380         0\n",
      "198    51  18.050         0\n",
      "...   ...     ...       ...\n",
      "1084   62  30.495         2\n",
      "726    41  28.405         1\n",
      "1132   57  40.280         0\n",
      "725    30  39.050         3\n",
      "963    46  24.795         3\n",
      "\n",
      "[268 rows x 3 columns]\n",
      "268\n",
      "133189853.20376825\n",
      "MSE为(直接计算)： 133189853.20376825\n"
     ]
    }
   ],
   "source": [
    "import pandas as pd\n",
    "from sklearn.model_selection import train_test_split\n",
    "from sklearn.linear_model import LinearRegression\n",
    "from sklearn.metrics import mean_squared_error\n",
    "import numpy as np\n",
    "df = pd.read_csv('insurance.csv')\n",
    "\n",
    "features = ['age', 'bmi', 'children']\n",
    "target = 'charges'\n",
    "X = df[features]\n",
    "y = df[target]\n",
    "print( X)\n",
    "print( y)\n",
    "X_train, X_test, y_train, y_test = train_test_split(X, y, test_size=0.2, random_state=0)\n",
    "print( y_train)\n",
    "model = LinearRegression()\n",
    "model.fit(X_train, y_train)\n",
    "\n",
    "y_test_pred = model.predict(X_test)\n",
    "print( X_test)\n",
    "print( y_test_pred.size)\n",
    "\n",
    "mse = mean_squared_error(y_test, y_test_pred)\n",
    "\n",
    "print( mse)\n",
    "print('MSE为(直接计算)：',np.mean((y_test-y_test_pred)**2))\n"
   ]
  }
 ],
 "metadata": {
  "kernelspec": {
   "display_name": "AI_class",
   "language": "python",
   "name": "python3"
  },
  "language_info": {
   "codemirror_mode": {
    "name": "ipython",
    "version": 3
   },
   "file_extension": ".py",
   "mimetype": "text/x-python",
   "name": "python",
   "nbconvert_exporter": "python",
   "pygments_lexer": "ipython3",
   "version": "3.8.16"
  },
  "vscode": {
   "interpreter": {
    "hash": "837d4da754264a4b2e4823fba354a0723b1b3586daae01a8f0ad9fbd5e28aece"
   }
  }
 },
 "nbformat": 4,
 "nbformat_minor": 5
}
